{
 "cells": [
  {
   "cell_type": "code",
   "execution_count": 1,
   "id": "1666dfc2",
   "metadata": {},
   "outputs": [
    {
     "name": "stdout",
     "output_type": "stream",
     "text": [
      "[1, 2, 3, 4, 5, 8]\n"
     ]
    }
   ],
   "source": [
    "def insertion_sort(arr):\n",
    "    for j in range(1, len(arr)):\n",
    "        key = arr[j]\n",
    "        i=j-1\n",
    "        while i>=0:\n",
    "            if key < arr[i]:\n",
    "                arr[i+1] = arr[i]\n",
    "                arr[i] = key\n",
    "                i =i - 1\n",
    "            else:\n",
    "                break\n",
    "\n",
    "arr = [2,8,5,1,3,4]\n",
    "insertion_sort(arr)\n",
    "print(arr)\n"
   ]
  },
  {
   "cell_type": "code",
   "execution_count": 60,
   "id": "680903b8",
   "metadata": {},
   "outputs": [
    {
     "name": "stdout",
     "output_type": "stream",
     "text": [
      "Edge: 0 2 - 5\n",
      "Edge: 3 4 - 7\n",
      "Edge: 0 1 - 8\n",
      "Edge: 2 3 - 14\n"
     ]
    }
   ],
   "source": [
    "class Graph:\n",
    "    def __init__(self, vertex):\n",
    "        self.V = vertex\n",
    "        #empty graph\n",
    "        self.graph = []\n",
    " \n",
    "    def add_edge(self, u, v, w):\n",
    "        self.graph.append([u, v, w])\n",
    " \n",
    " \n",
    "    def search(self, parent, i):\n",
    "        if parent[i] == i:\n",
    "            return i\n",
    "        return self.search(parent, parent[i])\n",
    " \n",
    "    def apply_union(self, parent, rank, x, y):\n",
    "        xroot = self.search(parent, x)\n",
    "        yroot = self.search(parent, y)\n",
    "        if rank[xroot] < rank[yroot]:\n",
    "            parent[xroot] = yroot\n",
    "        elif rank[xroot] > rank[yroot]:\n",
    "            parent[yroot] = xroot\n",
    "        else:\n",
    "            parent[yroot] = xroot\n",
    "            rank[xroot] += 1\n",
    " \n",
    "  \n",
    "    def kruskal(self):\n",
    "        result = []\n",
    "        i, e = 0, 0\n",
    "        self.graph = sorted(self.graph, key=lambda item: item[2])\n",
    "        parent = []\n",
    "        rank = []\n",
    "        for node in range(self.V):\n",
    "            parent.append(node)\n",
    "            rank.append(0)\n",
    "        while e < self.V - 1:\n",
    "            u, v, w = self.graph[i]\n",
    "            i = i + 1\n",
    "            x = self.search(parent, u)\n",
    "            y = self.search(parent, v)\n",
    "            if x != y:\n",
    "                e = e + 1\n",
    "                result.append([u, v, w])\n",
    "                self.apply_union(parent, rank, x, y)\n",
    "        for u, v, weight in result:\n",
    "            print(\"Edge:\",u, v,end =\" \")\n",
    "            print(\"-\",weight)\n",
    " \n",
    " \n",
    "g = Graph(5)\n",
    "g.add_edge(0, 1, 8)\n",
    "g.add_edge(0, 2, 5)\n",
    "g.add_edge(1, 2, 9)\n",
    "g.add_edge(1, 3, 15)\n",
    "g.add_edge(2, 3, 14)\n",
    "g.add_edge(2, 4, 20)\n",
    "g.add_edge(3, 4, 7)\n",
    "g.kruskal()\n"
   ]
  },
  {
   "cell_type": "code",
   "execution_count": null,
   "id": "81cfbc86",
   "metadata": {},
   "outputs": [],
   "source": []
  }
 ],
 "metadata": {
  "kernelspec": {
   "display_name": "Python 3",
   "language": "python",
   "name": "python3"
  },
  "language_info": {
   "codemirror_mode": {
    "name": "ipython",
    "version": 3
   },
   "file_extension": ".py",
   "mimetype": "text/x-python",
   "name": "python",
   "nbconvert_exporter": "python",
   "pygments_lexer": "ipython3",
   "version": "3.8.8"
  }
 },
 "nbformat": 4,
 "nbformat_minor": 5
}
